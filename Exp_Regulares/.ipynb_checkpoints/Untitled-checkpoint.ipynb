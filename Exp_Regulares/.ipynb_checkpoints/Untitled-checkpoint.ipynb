{
 "cells": [
  {
   "cell_type": "markdown",
   "metadata": {},
   "source": [
    "### O que são expressões Regulares?\n",
    "São linhas de código que permitem a identificação de padrões de cadeias de caracteres específicos dentro de \"strigs\" e  usá-los para a manipulação do banco de dados (muito importante para transformação de dados)\n",
    "\n",
    "Exemplos: Identificação de e-mails em textos, substituição de palavras repetitivas por outras, reconhecimento de números padrões como por exemplo um CPF (xxx.xxx.xxx-xx) ou números de cartões de crédito, etc.\n",
    "\n",
    "Utilizamos a biblioteca \"re\" (Regular Expressions ou Regex)"
   ]
  },
  {
   "cell_type": "code",
   "execution_count": 1,
   "metadata": {},
   "outputs": [],
   "source": [
    "import re"
   ]
  },
  {
   "cell_type": "markdown",
   "metadata": {},
   "source": [
    "### Principais funções utilizadas em \"re\":\n",
    "findall: Encontra todas as ocorrências do padrão desejado pelo usuário\n",
    "\n",
    "search: Vai encontrar a primeira ocorrência e retornar o local que foi encontrado\n",
    "\n",
    "sub: Para substituir algum trecho de caracteres por outro\n",
    "\n",
    "compile: compila e salva alguma cadeia de caracteres de interesse para que possa ser reutilizado mais adiante a fim de evitar repetições, como se salvasse determinada cadeia de strings dentro de um objeto. É importante para o desempenho do programa também."
   ]
  },
  {
   "cell_type": "code",
   "execution_count": null,
   "metadata": {},
   "outputs": [],
   "source": []
  },
  {
   "cell_type": "code",
   "execution_count": null,
   "metadata": {},
   "outputs": [],
   "source": []
  }
 ],
 "metadata": {
  "kernelspec": {
   "display_name": "Python 3",
   "language": "python",
   "name": "python3"
  },
  "language_info": {
   "codemirror_mode": {
    "name": "ipython",
    "version": 3
   },
   "file_extension": ".py",
   "mimetype": "text/x-python",
   "name": "python",
   "nbconvert_exporter": "python",
   "pygments_lexer": "ipython3",
   "version": "3.8.5"
  }
 },
 "nbformat": 4,
 "nbformat_minor": 4
}
