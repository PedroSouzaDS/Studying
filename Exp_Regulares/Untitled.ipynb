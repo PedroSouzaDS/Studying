{
 "cells": [
  {
   "cell_type": "markdown",
   "metadata": {},
   "source": [
    "## O que são expressões Regulares?\n",
    "São linhas de código que permitem a identificação de padrões de cadeias de caracteres específicos dentro de \"strigs\" e  usá-los para a manipulação do banco de dados (muito importante para transformação de dados)\n",
    "\n",
    "Exemplos: Identificação de e-mails em textos, substituição de palavras repetitivas por outras, reconhecimento de números padrões como por exemplo um CPF (xxx.xxx.xxx-xx) ou números de cartões de crédito, etc.\n",
    "\n",
    "Utilizamos a biblioteca \"re\" (Regular Expressions ou Regex)"
   ]
  },
  {
   "cell_type": "code",
   "execution_count": 1,
   "metadata": {},
   "outputs": [],
   "source": [
    "import re"
   ]
  },
  {
   "cell_type": "markdown",
   "metadata": {},
   "source": [
    "### Principais funções utilizadas em \"re\":\n",
    "findall: Encontra todas as ocorrências do padrão desejado pelo usuário\n",
    "\n",
    "search: Vai encontrar a primeira ocorrência e retornar o local que foi encontrado\n",
    "\n",
    "sub: Para substituir algum trecho de caracteres por outro\n",
    "\n",
    "compile: compila e salva alguma cadeia de caracteres de interesse para que possa ser reutilizado mais adiante a fim de evitar repetições, como se salvasse determinada cadeia de strings dentro de um objeto. É importante para o desempenho do programa também."
   ]
  },
  {
   "cell_type": "code",
   "execution_count": 2,
   "metadata": {},
   "outputs": [],
   "source": [
    "string = 'Este é um teste de expressões teste regulares'"
   ]
  },
  {
   "cell_type": "markdown",
   "metadata": {},
   "source": [
    "#### Exemplo função \"Search\""
   ]
  },
  {
   "cell_type": "code",
   "execution_count": 3,
   "metadata": {},
   "outputs": [
    {
     "name": "stdout",
     "output_type": "stream",
     "text": [
      "<re.Match object; span=(10, 15), match='teste'>\n"
     ]
    }
   ],
   "source": [
    "print(re.search(r'teste',string))"
   ]
  },
  {
   "cell_type": "markdown",
   "metadata": {},
   "source": [
    "Podemos observar a estrutura do search como o \"r\" para indicar entre aspas simples ' ' qual palavra desejamos procurar dentro da cadeia de caracteres e \"string\" o nome da frase em string desejada.\n",
    "\n",
    "Podemos observar também que a função retorna a posição (início e fim) da palavra \"teste\" dentro da frase PORÉM apenas sua primeira ocorrência. Para saber das demais ocorrências usamos uma outra função chamada \"findall\".\n",
    "\n",
    "Outra obervação importante é que a função busca EXATAMENTE a palavra desejada, qualquer outra pequena variação a função retorna \"none\" como resposta.\n",
    "\n",
    "Este tipo de expressão é muito interessante para o uso de condicionais como por exemplo \"se há a palavra 'olá' na frase, substitua esta primeira palavra po 'oi'\""
   ]
  },
  {
   "cell_type": "markdown",
   "metadata": {},
   "source": [
    "#### Exemplo função \"findall\""
   ]
  },
  {
   "cell_type": "code",
   "execution_count": 4,
   "metadata": {},
   "outputs": [
    {
     "name": "stdout",
     "output_type": "stream",
     "text": [
      "['teste', 'teste']\n"
     ]
    }
   ],
   "source": [
    "print(re.findall(r'teste',string))"
   ]
  },
  {
   "cell_type": "markdown",
   "metadata": {},
   "source": [
    "Desta vez, a função buscou TODAS as ocorrências da palavra \"teste\" dentro da frase e retornou uma lista com os caracteres encontrados."
   ]
  },
  {
   "cell_type": "markdown",
   "metadata": {},
   "source": [
    "#### Exemplo função \"sub\""
   ]
  },
  {
   "cell_type": "code",
   "execution_count": 5,
   "metadata": {},
   "outputs": [
    {
     "name": "stdout",
     "output_type": "stream",
     "text": [
      "Este é um ABCDE de expressões ABCDE regulares\n"
     ]
    }
   ],
   "source": [
    "print(re.sub(r'teste', 'ABCDE', string))"
   ]
  },
  {
   "cell_type": "markdown",
   "metadata": {},
   "source": [
    "A função \"sub\" irá substituir TODAS as palavras citadas da expressão por outra que é especificado num segundo parâmetro."
   ]
  },
  {
   "cell_type": "markdown",
   "metadata": {},
   "source": [
    "#### Exemplo função \"compile\""
   ]
  },
  {
   "cell_type": "markdown",
   "metadata": {},
   "source": [
    "Pode-se observar que nos três exemplo estudados até o momentofoi muito repetido a expressão \"re.funcão(r'teste',string)\" sempre para se trabalhar com uma mesma porção da cadeia de caracteres que no caso é \"teste\". Para evitar estas repetições usa-se a função \"compile\". Esta função irá gravar estas partes repetidas em uma variável e, então, o nome desta variável será usado em associação com as outras funções."
   ]
  },
  {
   "cell_type": "code",
   "execution_count": 6,
   "metadata": {},
   "outputs": [],
   "source": [
    "reg_teste = re.compile(r'teste')"
   ]
  },
  {
   "cell_type": "code",
   "execution_count": 7,
   "metadata": {},
   "outputs": [
    {
     "data": {
      "text/plain": [
       "<re.Match object; span=(10, 15), match='teste'>"
      ]
     },
     "execution_count": 7,
     "metadata": {},
     "output_type": "execute_result"
    }
   ],
   "source": [
    "reg_teste.search(string)"
   ]
  },
  {
   "cell_type": "code",
   "execution_count": 8,
   "metadata": {},
   "outputs": [
    {
     "data": {
      "text/plain": [
       "['teste', 'teste']"
      ]
     },
     "execution_count": 8,
     "metadata": {},
     "output_type": "execute_result"
    }
   ],
   "source": [
    "reg_teste.findall(string)"
   ]
  },
  {
   "cell_type": "code",
   "execution_count": 9,
   "metadata": {},
   "outputs": [
    {
     "data": {
      "text/plain": [
       "'Este é um ABCDE de expressões ABCDE regulares'"
      ]
     },
     "execution_count": 9,
     "metadata": {},
     "output_type": "execute_result"
    }
   ],
   "source": [
    "reg_teste.sub('ABCDE', string)"
   ]
  },
  {
   "cell_type": "markdown",
   "metadata": {},
   "source": [
    "Podemos observar que após a compilação, não foi usado mais a chamada da biblioteca \"re\" e nem a especificação da palavra desejada \"teste\", uma vez que já estavam todos num mesmo objeto \"reg_teste\""
   ]
  },
  {
   "cell_type": "markdown",
   "metadata": {},
   "source": [
    "Esta etapa do estudo compreende o conhecimento mais básico das funções mais usadas em \"re\". De agora em diante, serão estudados todas as variantes deste módulo, isto é, técnicas mais avançadas de se encontrarem expressões ussando estas mesmas funções. "
   ]
  },
  {
   "cell_type": "markdown",
   "metadata": {},
   "source": [
    "### Meta caracteres: \n",
    ".  ^  $  *  +  ?  { } [ ]  \\  |  ( ) "
   ]
  },
  {
   "cell_type": "markdown",
   "metadata": {},
   "source": [
    "Os Meta Caracteres são caracteres tipo símbolos utilizados em associação com as funções vistas até o momento. Seu objetivo é extrair conjuntos de caracteres de maneira mais eficiente e flexível aumentando o grau de liberdade na manipulação das expressões."
   ]
  },
  {
   "cell_type": "markdown",
   "metadata": {},
   "source": [
    "#### Exemplo do \"OU\"\n",
    "\n",
    "Dentro do texto abaixo desejamos extrair as palavras \"João\" OU \"Maria\", para isso usamos o símbolo pipe \" | \""
   ]
  },
  {
   "cell_type": "code",
   "execution_count": 10,
   "metadata": {},
   "outputs": [],
   "source": [
    "texto = '''\n",
    "João trouxe    flores para sua amada namorada em 10 de janeiro de 1970,\n",
    "Maria era o nome dela.\n",
    "Foi um ano excelente na vida de joão. Teve 5 filhos, todos adultos atualmente.\n",
    "maria, hoje sua esposa, ainda faz aquele café com pão de queijo nas tardes de\n",
    "domingo. Também né! Sendo a boa mineira que é, nunca esquece seu famoso\n",
    "pão de queijo.\n",
    "\n",
    "Não canso de ouvir a Maria:\n",
    "\"Joooooooooãooooooo, o café tá prontinho aqui. Veeemm\"!\n",
    "\n",
    "Jão\n",
    "'''"
   ]
  },
  {
   "cell_type": "code",
   "execution_count": 11,
   "metadata": {},
   "outputs": [
    {
     "data": {
      "text/plain": [
       "['João', 'Maria', 'Maria']"
      ]
     },
     "execution_count": 11,
     "metadata": {},
     "output_type": "execute_result"
    }
   ],
   "source": [
    "re.findall(r'João|Maria', texto)"
   ]
  },
  {
   "cell_type": "markdown",
   "metadata": {},
   "source": [
    "Podemos observar qie a expressão retornou uma lista com TODOS os \"João\" e \"Maria\" do texto, porém, apenas os que obedecem exatamente este padrão, deixando de fora por exemplo, os nomes que começam em minúsculo ou possuem alguma outra pequena variação. \n",
    "\n",
    "Lembrando que pela lógica, o \"OU\" significa na prática exibir AMABAS as expressões desejadas, como no caso já visto em outros programas, exibe linhas que contém UM dado e exibe outras linhas que contém o OUTRO dado.\n",
    "\n",
    "Procurando uma terceira palavra \"adultos\" temos:"
   ]
  },
  {
   "cell_type": "code",
   "execution_count": 12,
   "metadata": {},
   "outputs": [
    {
     "data": {
      "text/plain": [
       "['João', 'Maria', 'adultos', 'Maria']"
      ]
     },
     "execution_count": 12,
     "metadata": {},
     "output_type": "execute_result"
    }
   ],
   "source": [
    "re.findall(r'João|Maria|adultos', texto)"
   ]
  },
  {
   "cell_type": "markdown",
   "metadata": {},
   "source": [
    "#### Exemplo para encontar qualquer caractere com o \" . \":\n",
    "Em caso de procurar palavras específicas que suponhamos haver algum erro como por exemplo de ortografia ou apenas alguma variação da palavra escrita involuntariamente, este possível caractere errado pode ser escrito como \" . \" no lugar, indicando ao programa que procure todas as palavras porém com qualqer outra letra no lugar do ponto indicado.\n",
    "\n",
    "No exemplo a seguir, temos a palavra do nome João escrito de formas diferentes no texto, pois supomos que quem escreveu possa ter, em algum momento, esquecido de colocar a primeira letra maiúscula, posrtanto, vamos buscar tudo."
   ]
  },
  {
   "cell_type": "code",
   "execution_count": 13,
   "metadata": {},
   "outputs": [
    {
     "data": {
      "text/plain": [
       "['João', 'joão', 'ooão']"
      ]
     },
     "execution_count": 13,
     "metadata": {},
     "output_type": "execute_result"
    }
   ],
   "source": [
    "re.findall(r'.oão', texto)"
   ]
  },
  {
   "cell_type": "markdown",
   "metadata": {},
   "source": [
    "A função encontro os caracteres com três variantes para a letra \"J\": João, joão e ooão.\n",
    "\n",
    "Esta funcionalidade pode ser usada para mais de uma letra se necessário porém con excessão de quebra de linha."
   ]
  },
  {
   "cell_type": "markdown",
   "metadata": {},
   "source": [
    "#### Exemplo de alternativas do \"OU\" usando colchetes \"[  ]\":\n",
    "O uso do colchetes serve para, ao invés de escrevermos duas possíveis palavras separados pelo pipe, podemos incluir os possíveis caracteres que o programa deve encontrar dentro do colchetes \"[ ]\". Assim podemos modificar ou até mesmo economizar caracteres."
   ]
  },
  {
   "cell_type": "code",
   "execution_count": 14,
   "metadata": {},
   "outputs": [
    {
     "data": {
      "text/plain": [
       "['João', 'joão', 'ooão']"
      ]
     },
     "execution_count": 14,
     "metadata": {},
     "output_type": "execute_result"
    }
   ],
   "source": [
    "re.findall(r'[Jjo]oão', texto)"
   ]
  },
  {
   "cell_type": "markdown",
   "metadata": {},
   "source": [
    "Ao invés de especificar quais os possíveis caracteres, um a um, dentro do colchetes, podemos usá-lo também para fazer um range entre intervalos de letras ou números, assim, aumentando mais ainda o grau de flexibilidade da função"
   ]
  },
  {
   "cell_type": "code",
   "execution_count": 15,
   "metadata": {},
   "outputs": [
    {
     "data": {
      "text/plain": [
       "['João', 'Maria', 'joão', 'maria', 'Maria', 'ooão']"
      ]
     },
     "execution_count": 15,
     "metadata": {},
     "output_type": "execute_result"
    }
   ],
   "source": [
    "re.findall(r'[a-zA-Z0-9]oão|[a-zA-Z0-9]aria', texto)"
   ]
  },
  {
   "cell_type": "markdown",
   "metadata": {},
   "source": [
    "Repare que os ranges a-z, A-Z, 0-9 não exigem nenhuma separação entre si para serem exibidos dentro do colchetes.\n",
    "\n",
    "Outra e última alternativa para a identificação de caracteres diversos dentro de uma palavra é o uso das \"flags\". As \"flags\" são representadas por um parâmetro chamado flag. No caso usamos, dentro deste parâmetro, a palavra \"IGNORECASE\" ou apenas \"I\" para que a palavra desejada seja identificada, independente da forma com a qual está escrita.\n",
    "\n",
    "OBS: O FLAG PODE SER UMA ALTERNATIVA MAIS GERAL PARA SER USADO SEMPRE NOS CÓDIGOS EM CASO DE ESCQUECIMENTO DE TODAS AS REGRAS."
   ]
  },
  {
   "cell_type": "code",
   "execution_count": 16,
   "metadata": {},
   "outputs": [
    {
     "data": {
      "text/plain": [
       "['João', 'Maria', 'joão', 'maria', 'Maria']"
      ]
     },
     "execution_count": 16,
     "metadata": {},
     "output_type": "execute_result"
    }
   ],
   "source": [
    "re.findall(r'jOão|MArIa', texto, flags=re.I)"
   ]
  },
  {
   "cell_type": "code",
   "execution_count": 17,
   "metadata": {},
   "outputs": [
    {
     "data": {
      "text/plain": [
       "['Maria', 'maria', 'Maria']"
      ]
     },
     "execution_count": 17,
     "metadata": {},
     "output_type": "execute_result"
    }
   ],
   "source": [
    "re.findall(r'jOao|MArIa', texto, flags=re.I)"
   ]
  },
  {
   "cell_type": "markdown",
   "metadata": {},
   "source": [
    "Por enquanto, conforme a última linha acima, ainda não temos recursos para identificação independente de acentuações gráficas, sendo que ainda nestas condições, as palavras devem obedecer a mesma aceuntuação.\n",
    "\n",
    "RESUMINDO: Podemos usar os colchetes para ESPECIFICAR AS POSSÍVEIS LETRAS INDIVIDUALMENTE ou ESTABELECER \"RANGES\" DE POSSÍVEIS CARACTERES. O uso do \"flag\" NÃO substitui o uso do colchetes, pois com o colchetes podemos informar ao programa que há OUTROS CARACTERES DIFERENTES que não deveriam estar ali por exemplo, com o \"flag = re.I\" se limitando APENAS ao controle de caracteres MAIÚSCULOS ou MINÚSCULOS. "
   ]
  },
  {
   "cell_type": "markdown",
   "metadata": {},
   "source": [
    "#### Quantificadores\n",
    "Seguindo ainda o uso de caracteres simbólicos para complementar o uso das principais funções regulares, os símbolos a serem vistos à seguir têm a função de quantificadores, isto é, todos os vistos até agora são alternativas às formas dos caracteres. Os quantificadores são para as quantidades dos caracteres ou, até mesmo, indicar que há caracteres faltantes."
   ]
  },
  {
   "cell_type": "markdown",
   "metadata": {},
   "source": [
    "#### Caracteres que podem haver de 1 a n quantidades \" + \":\n",
    "Em caso de caracteres duplicados, proposital ou não intencionalmente, temos uma opção para indicar ao Python que objetos logo à esquerda deste quantificador pode estar sendo repetido na palavra ao menos uma vez (de 1 a n) e que é para serem todos exibidos."
   ]
  },
  {
   "cell_type": "code",
   "execution_count": 18,
   "metadata": {},
   "outputs": [
    {
     "data": {
      "text/plain": [
       "['João', 'joão', 'Joooooooooão']"
      ]
     },
     "execution_count": 18,
     "metadata": {},
     "output_type": "execute_result"
    }
   ],
   "source": [
    "re.findall(r'jo+ão', texto, flags=re.I)"
   ]
  },
  {
   "cell_type": "markdown",
   "metadata": {},
   "source": [
    "Reparem que no texto há a palavra \"Joooooooooãooooooo\" e as repetições da última letra foram ignoradas. Isto ocorreu porque para que sejam levadas em consideração deve haver o \" + \" à sua direita também."
   ]
  },
  {
   "cell_type": "code",
   "execution_count": 19,
   "metadata": {},
   "outputs": [
    {
     "data": {
      "text/plain": [
       "['João', 'joão', 'Joooooooooãooooooo']"
      ]
     },
     "execution_count": 19,
     "metadata": {},
     "output_type": "execute_result"
    }
   ],
   "source": [
    "re.findall(r'jo+ão+', texto, flags=re.I)"
   ]
  },
  {
   "cell_type": "markdown",
   "metadata": {},
   "source": [
    "Agora sim, ambos os lados com repetições da letra \"o\" foram identificados com o uso da expressão regular. "
   ]
  },
  {
   "cell_type": "markdown",
   "metadata": {},
   "source": [
    "#### Caracteres que podem haver  0 ou n quantidades \" * \":\n",
    "Em caso de caracteres duplicados, proposital ou não intencionalmente, temos uma opção para indicar ao Python que objetos logo à esquerda deste quantificador pode nem existir ou serem repetidos infinitamente (de 0 a n) e que é para serem todos exibidos.\n",
    "\n",
    "Ou seja, este quantificador \" * \" indica que o caractere que está LOGO À SUA ESQUERDA pode nem existir mas se existir pode haver infinitos dele. Praticamente a mesma coisa do \" + \" porém retorna a palavra mesmo se estiver faltando caractere. \n",
    "\n",
    "Para o exemplo, foi incluído a palavra \"Jão\" no texto:"
   ]
  },
  {
   "cell_type": "code",
   "execution_count": 20,
   "metadata": {},
   "outputs": [
    {
     "data": {
      "text/plain": [
       "['João', 'joão', 'Joooooooooãooooooo', 'Jão']"
      ]
     },
     "execution_count": 20,
     "metadata": {},
     "output_type": "execute_result"
    }
   ],
   "source": [
    "re.findall(r'Jo*ão*', texto, flags = re.I) #flags para exibir se estiver em maiúsculo ou minúsculo"
   ]
  },
  {
   "cell_type": "markdown",
   "metadata": {},
   "source": [
    "A palavra \"Jão\" foi exibida mesmo faltando o 1° \"o\" graças ao \" * \""
   ]
  },
  {
   "cell_type": "markdown",
   "metadata": {},
   "source": [
    "#### Caracteres para indicar que pode ou não existir os caracteres à esquerda \" ? \":"
   ]
  },
  {
   "cell_type": "markdown",
   "metadata": {},
   "source": [
    "De maneira semelhante aos outros quantificadores até agora porém com uma funcionalidade um pouco mais restrita, temos o \" ?\", que indica ao programa que o caractere à sua esquerda PODE OU NÃO estar faltando, mas que independente disso deve ser exibido."
   ]
  },
  {
   "cell_type": "code",
   "execution_count": 21,
   "metadata": {},
   "outputs": [
    {
     "data": {
      "text/plain": [
       "['João', 'joão', 'Jão']"
      ]
     },
     "execution_count": 21,
     "metadata": {},
     "output_type": "execute_result"
    }
   ],
   "source": [
    "re.findall(r'Jo?ão', texto, flags = re.I)"
   ]
  },
  {
   "cell_type": "markdown",
   "metadata": {},
   "source": [
    "#### Quantificadores específicos utilizando chaves \"{ }\":\n",
    "Os quantificadores vistos até o momento são na verdade atalhos para os quantificadores. Neste caso, os quantificadores usando chaves \" {} \" fazem o mesmo papel, porém muito mais generalistas e flexíveis sendo usados para \"dizer\" à expressão que as repetições de determinado caractere pode ocorrer da seguinte maneira:\n",
    "\n",
    "{n} : O caractere ocorre EXATAMENTE n vezes e para exibi-lo;\n",
    "{,n} ou {0,n} : O caractere talvez nem exista mas se existir pode ocorrer no máximo na quantidade n;\n",
    "{min,max} : O caractere pode existir na quantidade de um valor mínimo (diferente de 0) até um valor máximo limitado\n",
    "{min,} : pode existir de um valor mínimo até um valor ilimitado e para exibir a todos."
   ]
  },
  {
   "cell_type": "code",
   "execution_count": 22,
   "metadata": {},
   "outputs": [
    {
     "data": {
      "text/plain": [
       "['João', 'joão', 'Joooooooooão', 'Jão']"
      ]
     },
     "execution_count": 22,
     "metadata": {},
     "output_type": "execute_result"
    }
   ],
   "source": [
    "re.findall(r'Jo{0,}ão', texto, flags = re.I)"
   ]
  },
  {
   "cell_type": "markdown",
   "metadata": {},
   "source": [
    "todos os valores foram exibidos, exceto a segunda repetição do terceiro \"João\" da lista pois não foi especificado após o seu segundo \"o\"."
   ]
  },
  {
   "cell_type": "code",
   "execution_count": 23,
   "metadata": {},
   "outputs": [
    {
     "data": {
      "text/plain": [
       "['João', 'joão', 'Joooooooooãooooooo', 'Jão']"
      ]
     },
     "execution_count": 23,
     "metadata": {},
     "output_type": "execute_result"
    }
   ],
   "source": [
    "re.findall(r'Jo{0,}ão{0,}', texto, flags = re.I)"
   ]
  },
  {
   "cell_type": "markdown",
   "metadata": {},
   "source": [
    "Para exibir as palavras com qualquer caractere que obedeçam a um \"range\" e toda a sua quantidade máxima, usamos os colchetes associados a algum quantificador"
   ]
  },
  {
   "cell_type": "code",
   "execution_count": 24,
   "metadata": {},
   "outputs": [
    {
     "data": {
      "text/plain": [
       "['Joooooooooão']"
      ]
     },
     "execution_count": 24,
     "metadata": {},
     "output_type": "execute_result"
    }
   ],
   "source": [
    "re.findall(r'Jo[a-zA-Z]+ão', texto, flags = re.I)"
   ]
  },
  {
   "cell_type": "code",
   "execution_count": null,
   "metadata": {},
   "outputs": [],
   "source": []
  }
 ],
 "metadata": {
  "kernelspec": {
   "display_name": "Python 3",
   "language": "python",
   "name": "python3"
  },
  "language_info": {
   "codemirror_mode": {
    "name": "ipython",
    "version": 3
   },
   "file_extension": ".py",
   "mimetype": "text/x-python",
   "name": "python",
   "nbconvert_exporter": "python",
   "pygments_lexer": "ipython3",
   "version": "3.8.5"
  }
 },
 "nbformat": 4,
 "nbformat_minor": 4
}
